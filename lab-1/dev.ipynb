{
 "cells": [
  {
   "cell_type": "markdown",
   "metadata": {},
   "source": [
    "# Lab 1\n",
    "\n",
    "* Target t = sin(4*pi*x) + epsilon (epsilon = noise with mean 0 variance 0.09 Gaussian distribution)\n",
    "* Generate training and validation sets\n",
    "* Training set -> 10 examples uniform in interval \n",
    "*"
   ]
  },
  {
   "cell_type": "code",
   "execution_count": 2,
   "metadata": {},
   "outputs": [],
   "source": [
    "import numpy as np\n",
    "X_train = np.linspace(0.,1.,10) # training set\n",
    "X_valid = np.linspace(0.,1.,100) # validation set\n",
    "np.random.seed(2350)\n",
    "t_valid = np.sin(4*np.pi*X_valid) + 0.3 * np.random.randn(100)  # sin function output with added noise\n",
    "t_train = np.sin(4*np.pi*X_train) + 0.3 * np.random.randn(10)"
   ]
  },
  {
   "cell_type": "code",
   "execution_count": 18,
   "metadata": {},
   "outputs": [
    {
     "data": {
      "text/plain": [
       "array([[1.],\n",
       "       [1.],\n",
       "       [1.],\n",
       "       [1.],\n",
       "       [1.],\n",
       "       [1.],\n",
       "       [1.],\n",
       "       [1.],\n",
       "       [1.],\n",
       "       [1.]])"
      ]
     },
     "execution_count": 18,
     "metadata": {},
     "output_type": "execute_result"
    }
   ],
   "source": [
    "'''\n",
    "Code to generate matrixes for M=0 to M=9 dimensions \n",
    "'''\n",
    "Ms = range(0,9)\n",
    "X_ms = {\n",
    "    'M0': None,\n",
    "    'M1': None,\n",
    "    'M2': None,\n",
    "    'M3': None,\n",
    "    'M4': None,\n",
    "    'M5': None,\n",
    "    'M6': None,\n",
    "    'M7': None,\n",
    "    'M8': None,\n",
    "    'M9': None,\n",
    "}\n",
    "def generate_X_m(M:int, x_train):\n",
    "    X_m = np.transpose(np.ones((1, len(x_train))))     # column of ones\n",
    "    for m in range(0,M):\n",
    "        x_train_m = np.transpose(x_train)    # example to the power of m (will be from 1 to 9)\n",
    "        np.append(X_m, x_train_m)\n",
    "    \n",
    "    return X_m\n",
    "\n",
    "xm = generate_X_m(2, X_train)\n",
    "xm"
   ]
  }
 ],
 "metadata": {
  "kernelspec": {
   "display_name": "Python 3.9.0 ('env': venv)",
   "language": "python",
   "name": "python3"
  },
  "language_info": {
   "codemirror_mode": {
    "name": "ipython",
    "version": 3
   },
   "file_extension": ".py",
   "mimetype": "text/x-python",
   "name": "python",
   "nbconvert_exporter": "python",
   "pygments_lexer": "ipython3",
   "version": "3.9.0"
  },
  "orig_nbformat": 4,
  "vscode": {
   "interpreter": {
    "hash": "42a04e619a16d23ae258bfb44319996c4ceed5367d8e4b4f1c664ec2bfaae15c"
   }
  }
 },
 "nbformat": 4,
 "nbformat_minor": 2
}
